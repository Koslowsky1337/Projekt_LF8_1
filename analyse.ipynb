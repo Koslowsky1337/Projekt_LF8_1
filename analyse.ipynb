{
 "cells": [
  {
   "cell_type": "markdown",
   "metadata": {},
   "source": [
    "# Datenanalyse Projekt LF8"
   ]
  },
  {
   "cell_type": "markdown",
   "metadata": {},
   "source": [
    "## 1. Datenbeschaffung"
   ]
  },
  {
   "cell_type": "code",
   "execution_count": 7,
   "metadata": {},
   "outputs": [],
   "source": [
    "# Import\n",
    "import pandas as pd\n",
    "import matplotlib as plt"
   ]
  },
  {
   "cell_type": "code",
   "execution_count": 8,
   "metadata": {},
   "outputs": [],
   "source": [
    "# Read data\n",
    "co2_df = pd.read_csv(\"./data/co2_hist_emissions.csv\")\n",
    "methane_df = pd.read_csv(\"./data/methane_hist_emissions.csv\")\n",
    "TempCountry_df = pd.read_csv(\"./data/GlobalLandTemperaturesByCountry.csv\")\n",
    "TempMajorcity_df = pd.read_csv(\"./data/GlobalLandTemperaturesByMajorCity.csv\")\n",
    "TempState_df = pd.read_csv(\"./data/GlobalLandTemperaturesByState.csv\")\n",
    "TempGlobal_df = pd.read_csv(\"./data/GlobalTemperatures.csv\")"
   ]
  },
  {
   "cell_type": "markdown",
   "metadata": {},
   "source": [
    "## 2. Datacleaning"
   ]
  },
  {
   "cell_type": "code",
   "execution_count": null,
   "metadata": {},
   "outputs": [],
   "source": [
    "# Clean Data of NaN\n",
    "co2_df = co2_df.dropna()\n",
    "methane_df = methane_df.dropna()\n",
    "TempCountry_df = TempCountry_df.dropna()\n",
    "TempMajorcity_df = TempMajorcity_df.dropna()\n",
    "TempState_df = TempState_df.dropna()\n",
    "TempGlobal_df = TempGlobal_df.dropna()"
   ]
  },
  {
   "cell_type": "markdown",
   "metadata": {},
   "source": [
    "## 3. Feature Engineering"
   ]
  },
  {
   "cell_type": "markdown",
   "metadata": {},
   "source": [
    "## 4. Explorative Datenanalyse (EDA)"
   ]
  },
  {
   "cell_type": "markdown",
   "metadata": {},
   "source": [
    "## 5. Findings"
   ]
  },
  {
   "cell_type": "markdown",
   "metadata": {},
   "source": [
    "### 5.1 1. Finding"
   ]
  },
  {
   "cell_type": "markdown",
   "metadata": {},
   "source": [
    "### 5.2 2. Finding"
   ]
  },
  {
   "cell_type": "markdown",
   "metadata": {},
   "source": []
  }
 ],
 "metadata": {
  "kernelspec": {
   "display_name": "Python 3",
   "language": "python",
   "name": "python3"
  },
  "language_info": {
   "codemirror_mode": {
    "name": "ipython",
    "version": 3
   },
   "file_extension": ".py",
   "mimetype": "text/x-python",
   "name": "python",
   "nbconvert_exporter": "python",
   "pygments_lexer": "ipython3",
   "version": "3.10.8"
  },
  "orig_nbformat": 4
 },
 "nbformat": 4,
 "nbformat_minor": 2
}
