{
 "cells": [
  {
   "cell_type": "markdown",
   "metadata": {},
   "source": [
    "# Datenanalyse Projekt LF8"
   ]
  },
  {
   "cell_type": "markdown",
   "metadata": {},
   "source": [
    "## 1. Datenbeschaffung"
   ]
  },
  {
   "cell_type": "code",
   "execution_count": 16,
   "metadata": {},
   "outputs": [],
   "source": [
    "# Import\n",
    "import pandas as pd\n",
    "import matplotlib as plt"
   ]
  },
  {
   "cell_type": "code",
   "execution_count": 17,
   "metadata": {},
   "outputs": [],
   "source": [
    "# Read CSV-Datasets\n",
    "co2_df = pd.read_csv(\"./data/co2_hist_emissions.csv\")\n",
    "methane_df = pd.read_csv(\"./data/methane_hist_emissions.csv\")\n",
    "TempCountry_df = pd.read_csv(\"./data/GlobalLandTemperaturesByCountry.csv\")\n",
    "TempMajorcity_df = pd.read_csv(\"./data/GlobalLandTemperaturesByMajorCity.csv\")\n",
    "TempState_df = pd.read_csv(\"./data/GlobalLandTemperaturesByState.csv\")\n",
    "TempGlobal_df = pd.read_csv(\"./data/GlobalTemperatures.csv\")"
   ]
  },
  {
   "cell_type": "markdown",
   "metadata": {},
   "source": [
    "## 2. Datacleaning"
   ]
  },
  {
   "cell_type": "code",
   "execution_count": 18,
   "metadata": {},
   "outputs": [],
   "source": [
    "# Clean Data of NaN\n",
    "co2_df = co2_df.dropna()\n",
    "methane_df = methane_df.dropna()\n",
    "TempCountry_df = TempCountry_df.dropna()\n",
    "TempMajorcity_df = TempMajorcity_df.dropna()\n",
    "TempState_df = TempState_df.dropna()\n",
    "TempGlobal_df = TempGlobal_df.dropna()"
   ]
  },
  {
   "cell_type": "code",
   "execution_count": 19,
   "metadata": {},
   "outputs": [
    {
     "data": {
      "text/html": [
       "<div>\n",
       "<style scoped>\n",
       "    .dataframe tbody tr th:only-of-type {\n",
       "        vertical-align: middle;\n",
       "    }\n",
       "\n",
       "    .dataframe tbody tr th {\n",
       "        vertical-align: top;\n",
       "    }\n",
       "\n",
       "    .dataframe thead th {\n",
       "        text-align: right;\n",
       "    }\n",
       "</style>\n",
       "<table border=\"1\" class=\"dataframe\">\n",
       "  <thead>\n",
       "    <tr style=\"text-align: right;\">\n",
       "      <th></th>\n",
       "      <th>year</th>\n",
       "      <th>Country</th>\n",
       "      <th>AvgTemp</th>\n",
       "    </tr>\n",
       "  </thead>\n",
       "  <tbody>\n",
       "    <tr>\n",
       "      <th>0</th>\n",
       "      <td>1743</td>\n",
       "      <td>Albania</td>\n",
       "      <td>8.620000</td>\n",
       "    </tr>\n",
       "    <tr>\n",
       "      <th>1</th>\n",
       "      <td>1743</td>\n",
       "      <td>Andorra</td>\n",
       "      <td>7.556000</td>\n",
       "    </tr>\n",
       "    <tr>\n",
       "      <th>2</th>\n",
       "      <td>1743</td>\n",
       "      <td>Austria</td>\n",
       "      <td>2.482000</td>\n",
       "    </tr>\n",
       "    <tr>\n",
       "      <th>3</th>\n",
       "      <td>1743</td>\n",
       "      <td>Belarus</td>\n",
       "      <td>0.767000</td>\n",
       "    </tr>\n",
       "    <tr>\n",
       "      <th>4</th>\n",
       "      <td>1743</td>\n",
       "      <td>Belgium</td>\n",
       "      <td>7.106000</td>\n",
       "    </tr>\n",
       "    <tr>\n",
       "      <th>...</th>\n",
       "      <td>...</td>\n",
       "      <td>...</td>\n",
       "      <td>...</td>\n",
       "    </tr>\n",
       "    <tr>\n",
       "      <th>95</th>\n",
       "      <td>1744</td>\n",
       "      <td>Switzerland</td>\n",
       "      <td>8.351625</td>\n",
       "    </tr>\n",
       "    <tr>\n",
       "      <th>96</th>\n",
       "      <td>1744</td>\n",
       "      <td>Ukraine</td>\n",
       "      <td>9.997125</td>\n",
       "    </tr>\n",
       "    <tr>\n",
       "      <th>97</th>\n",
       "      <td>1744</td>\n",
       "      <td>United Kingdom</td>\n",
       "      <td>9.088250</td>\n",
       "    </tr>\n",
       "    <tr>\n",
       "      <th>98</th>\n",
       "      <td>1744</td>\n",
       "      <td>United Kingdom (Europe)</td>\n",
       "      <td>9.363125</td>\n",
       "    </tr>\n",
       "    <tr>\n",
       "      <th>99</th>\n",
       "      <td>1744</td>\n",
       "      <td>Åland</td>\n",
       "      <td>6.698500</td>\n",
       "    </tr>\n",
       "  </tbody>\n",
       "</table>\n",
       "<p>100 rows × 3 columns</p>\n",
       "</div>"
      ],
      "text/plain": [
       "    year                  Country   AvgTemp\n",
       "0   1743                  Albania  8.620000\n",
       "1   1743                  Andorra  7.556000\n",
       "2   1743                  Austria  2.482000\n",
       "3   1743                  Belarus  0.767000\n",
       "4   1743                  Belgium  7.106000\n",
       "..   ...                      ...       ...\n",
       "95  1744              Switzerland  8.351625\n",
       "96  1744                  Ukraine  9.997125\n",
       "97  1744           United Kingdom  9.088250\n",
       "98  1744  United Kingdom (Europe)  9.363125\n",
       "99  1744                    Åland  6.698500\n",
       "\n",
       "[100 rows x 3 columns]"
      ]
     },
     "execution_count": 19,
     "metadata": {},
     "output_type": "execute_result"
    }
   ],
   "source": [
    "# avg. temp. per year, per country\n",
    "TempCountry_df[\"dt\"] = pd.to_datetime(TempCountry_df[\"dt\"])\n",
    "TempCountry_df[\"year\"] = TempCountry_df[\"dt\"].dt.year\n",
    "TempCountry_df = TempCountry_df.groupby([\"year\", \"Country\"]).mean()\n",
    "TempCountry_df = TempCountry_df.reset_index()\n",
    "TempCountry_df = TempCountry_df[[\"year\", \"Country\", \"AverageTemperature\"]]\n",
    "TempCountry_df = TempCountry_df.rename(columns={\"AverageTemperature\": \"AvgTemp\"})\n",
    "TempCountry_df = TempCountry_df.sort_values(by=[\"year\", \"Country\"])\n",
    "TempCountry_df = TempCountry_df.reset_index()\n",
    "TempCountry_df = TempCountry_df.drop(columns=[\"index\"])\n",
    "TempCountry_df.head(100)"
   ]
  },
  {
   "cell_type": "markdown",
   "metadata": {},
   "source": [
    "## 3. Feature Engineering"
   ]
  },
  {
   "cell_type": "markdown",
   "metadata": {},
   "source": [
    "## 4. Explorative Datenanalyse (EDA)"
   ]
  },
  {
   "cell_type": "markdown",
   "metadata": {},
   "source": [
    "## 5. Findings"
   ]
  },
  {
   "cell_type": "markdown",
   "metadata": {},
   "source": [
    "### 5.1 1. Finding"
   ]
  },
  {
   "cell_type": "markdown",
   "metadata": {},
   "source": [
    "### 5.2 2. Finding"
   ]
  },
  {
   "cell_type": "markdown",
   "metadata": {},
   "source": []
  }
 ],
 "metadata": {
  "kernelspec": {
   "display_name": "Python 3",
   "language": "python",
   "name": "python3"
  },
  "language_info": {
   "codemirror_mode": {
    "name": "ipython",
    "version": 3
   },
   "file_extension": ".py",
   "mimetype": "text/x-python",
   "name": "python",
   "nbconvert_exporter": "python",
   "pygments_lexer": "ipython3",
   "version": "3.10.8"
  },
  "orig_nbformat": 4
 },
 "nbformat": 4,
 "nbformat_minor": 2
}
