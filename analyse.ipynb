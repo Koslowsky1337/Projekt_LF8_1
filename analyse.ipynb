{
 "cells": [
  {
   "cell_type": "markdown",
   "metadata": {},
   "source": [
    "## Datenanalyse"
   ]
  },
  {
   "cell_type": "code",
   "execution_count": 1,
   "metadata": {},
   "outputs": [],
   "source": [
    "# Importieren der Assets\n",
    "import pandas as pd\n",
    "import matplotlib as plt"
   ]
  },
  {
   "cell_type": "code",
   "execution_count": 2,
   "metadata": {},
   "outputs": [],
   "source": [
    "# Einlesen der CSV Dateien\n",
    "co2_df = pd.read_csv(\"./data/co2_hist_emissions.csv\")\n",
    "methane_df = pd.read_csv(\"./data/methane_hist_emissions.csv\")\n",
    "TempCountry_df = pd.read_csv(\"./data/GlobalLandTemperaturesByCountry.csv\")\n",
    "TempMajorcity_df = pd.read_csv(\"./data/GlobalLandTemperaturesByMajorCity.csv\")\n",
    "TempState_df = pd.read_csv(\"./data/GlobalLandTemperaturesByState.csv\")\n",
    "TempGlobal_df = pd.read_csv(\"./data/GlobalLandTemperatures.csv\")"
   ]
  },
  {
   "cell_type": "code",
   "execution_count": null,
   "metadata": {},
   "outputs": [],
   "source": []
  }
 ],
 "metadata": {
  "kernelspec": {
   "display_name": "Python 3",
   "language": "python",
   "name": "python3"
  },
  "language_info": {
   "codemirror_mode": {
    "name": "ipython",
    "version": 3
   },
   "file_extension": ".py",
   "mimetype": "text/x-python",
   "name": "python",
   "nbconvert_exporter": "python",
   "pygments_lexer": "ipython3",
   "version": "3.10.8"
  },
  "orig_nbformat": 4
 },
 "nbformat": 4,
 "nbformat_minor": 2
}
